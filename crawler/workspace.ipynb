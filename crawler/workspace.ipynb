{
 "cells": [
  {
   "cell_type": "code",
   "execution_count": 1,
   "metadata": {
    "collapsed": true
   },
   "outputs": [],
   "source": [
    "import pandas as pd\n",
    "from utils import *\n",
    "# autoreload\n",
    "%load_ext autoreload\n",
    "%autoreload 2"
   ]
  },
  {
   "cell_type": "markdown",
   "source": [
    "# Search Engine"
   ],
   "metadata": {
    "collapsed": false
   }
  },
  {
   "cell_type": "code",
   "execution_count": 3,
   "outputs": [
    {
     "name": "stdout",
     "output_type": "stream",
     "text": [
      "['US', 'China', 'UK', 'Russia', 'Trump', 'Biden', 'republic', 'democratic', 'gun', 'black', 'police', 'LGBT', 'fair', 'protest', 'war', 'invasion', 'refused', 'crime', 'violence', 'attack', 'terror', 'immigration', 'ukraine', 'conflict']\n"
     ]
    }
   ],
   "source": [
    "kargs1 = {'name': 'CNN',                      # name of the news website\n",
    "          'keyword': 'US',                    # keyword to search\n",
    "          'startpage': 1,\n",
    "          'endpage': 20,\n",
    "          'sleep1': 1,                        # time interval to revisit the page if failed\n",
    "          'sleep2': 1,                        # time interval to visit the next page if current page is empty\n",
    "          'sleep3': 1,                        # time interval to reparse the page if failed\n",
    "          'limit1': 10,                       # number of times to revisit the page if failed, then skip the page\n",
    "          'limit2': 10,                       # number of times to visit next page if current page is empty, then end the crawler\n",
    "          'limit3': 3,                        # total number of times to reparse the page if failed, then end the crawler\n",
    "          'filter_': None,                    # time filter for the news\n",
    "          'process': False,                   # whether to get the urls in debug\n",
    "          'parse': False,                     # whether to parse the urls in debug\n",
    "          'save': False,                      # whether to save the news in debug\n",
    "          'root': f'../data/test',}                   # root directory to save the news\n",
    "keywords = open('keywords.txt', 'r').read().split('\\n')\n",
    "print(keywords)"
   ],
   "metadata": {
    "collapsed": false
   }
  },
  {
   "cell_type": "code",
   "execution_count": 4,
   "outputs": [],
   "source": [
    "search = SearchEngine(**kargs1)"
   ],
   "metadata": {
    "collapsed": false
   }
  },
  {
   "cell_type": "code",
   "execution_count": 6,
   "outputs": [
    {
     "name": "stdout",
     "output_type": "stream",
     "text": [
      "Getting page 1 of 20 from CNN...\r"
     ]
    },
    {
     "data": {
      "text/plain": "['https://www.cnn.com/2017/08/03/us/nasa-message-to-voyager-trnd/index.html',\n 'https://www.cnn.com/2013/08/13/us/airline-merger-antitrust-lawsuit/index.html',\n 'https://www.cnn.com/2019/08/25/us/iran-sanctions-us-citizen/index.html',\n 'https://www.cnn.com/2019/01/02/us/russia-detains-us-citizen-paul-whelan/index.html',\n 'https://www.cnn.com/2013/09/30/us/u-s-capitol-fast-facts/index.html',\n 'https://www.cnn.com/2017/03/23/us/us-visa-fast-facts/index.html',\n 'https://www.cnn.com/2013/08/27/us/u-s-census-fast-facts/index.html',\n 'https://www.cnn.com/us/live-news/winter-storm-12-02-2019/index.html',\n 'https://www.cnn.com/2013/04/18/us/u-s-terrorist-attacks-fast-facts/index.html',\n 'https://www.cnn.com/2018/12/12/us/earthquake-decatur-tennessee/index.html']"
     },
     "execution_count": 6,
     "metadata": {},
     "output_type": "execute_result"
    }
   ],
   "source": [
    "search.get_urls(1)"
   ],
   "metadata": {
    "collapsed": false
   }
  },
  {
   "cell_type": "code",
   "execution_count": 7,
   "outputs": [
    {
     "name": "stdout",
     "output_type": "stream",
     "text": [
      "Getting page 20 of 20 from CNN...\r"
     ]
    }
   ],
   "source": [
    "search.get_all_urls()"
   ],
   "metadata": {
    "collapsed": false
   }
  },
  {
   "cell_type": "code",
   "execution_count": 8,
   "outputs": [
    {
     "data": {
      "text/plain": "['https://www.cnn.com/2012/06/08/us/my-view-the-kids-need-us/index.html',\n 'https://www.cnn.com/2012/10/24/us/faa-us-airways/index.html',\n 'https://www.cnn.com/2012/12/21/us/opinion-female-mass-shooter-can-teach-us-about-adam-lanza/index.html',\n 'https://www.cnn.com/2013/01/14/us/iowa-napkin-note/index.html',\n 'https://www.cnn.com/2013/02/01/us/legal-immigrants-what-about-us/index.html',\n 'https://www.cnn.com/2013/02/01/us/legal-immigration-irpt/index.html',\n 'https://www.cnn.com/2013/02/10/us/sn-teacher-feedback/index.html',\n 'https://www.cnn.com/2013/04/18/us/boston-blasts/index.html',\n 'https://www.cnn.com/2013/04/18/us/u-s-terrorist-attacks-fast-facts/index.html',\n 'https://www.cnn.com/2013/06/03/us/u-s-open-golf-tournament-fast-facts/index.html',\n 'https://www.cnn.com/2013/06/10/us/u-s-supreme-court-fast-facts/index.html',\n 'https://www.cnn.com/2013/06/21/us/top-u-s-supreme-court-decisions-fast-facts/index.html',\n 'https://www.cnn.com/2013/07/13/us/u-s-mine-disasters-fast-facts/index.html',\n 'https://www.cnn.com/2013/07/31/us/u-s-open-tennis-tournament-fast-facts/index.html',\n 'https://www.cnn.com/2013/08/13/us/airline-merger-antitrust-lawsuit/index.html',\n 'https://www.cnn.com/2013/08/27/us/u-s-census-fast-facts/index.html',\n 'https://www.cnn.com/2013/09/16/us/dc-navy-shooting-scene/index.html',\n 'https://www.cnn.com/2013/09/19/us/u-s-school-violence-fast-facts/index.html',\n 'https://www.cnn.com/2013/09/20/us/hispanics-in-the-u-s-/index.html',\n 'https://www.cnn.com/2013/09/30/us/u-s-capitol-fast-facts/index.html',\n 'https://www.cnn.com/2013/09/30/us/u-s-nuclear-power-plants/index.html',\n 'https://www.cnn.com/2013/10/31/us/u-s-constitution-fast-facts/index.html',\n 'https://www.cnn.com/2013/11/06/us/immigration-statistics-fast-facts/index.html',\n 'https://www.cnn.com/2014/06/09/us/imprisoned-u-s-spies---fast-facts/index.html',\n 'https://www.cnn.com/2014/09/21/us/virginia-missing-student-hannah-graham/index.html',\n 'https://www.cnn.com/2014/11/07/us/how-americans-handle-death/index.html',\n 'https://www.cnn.com/2016/08/11/us/hudson-landing-archive-sullenberger-profile/index.html',\n 'https://www.cnn.com/2016/09/19/us/us-attacks-new-york-new-jersey-minnesota/index.html',\n 'https://www.cnn.com/2016/09/20/us/ahmad-khan-rahami-wife/index.html',\n 'https://www.cnn.com/2016/09/22/us/immigration-attitudes-cnn-kff-poll/index.html',\n 'https://www.cnn.com/2016/10/11/us/weather-matthew/index.html',\n 'https://www.cnn.com/2016/10/28/politics/russian-us-military-planes-in-near-miss-over-syria/index.html',\n 'https://www.cnn.com/2016/10/30/us/us-prisoner-strike/index.html',\n 'https://www.cnn.com/2016/10/31/politics/us-special-forces-syria-iraq/index.html',\n 'https://www.cnn.com/2016/11/10/us/women-combat-us-military/index.html',\n 'https://www.cnn.com/2016/11/18/us/georgia-us-marshal-killed/index.html',\n 'https://www.cnn.com/2016/12/06/us/deadliest-us-nightclub-fires/index.html',\n 'https://www.cnn.com/2017/01/13/us/ice-storm-central-us/index.html',\n 'https://www.cnn.com/2017/02/01/us/united-nations-trump-travel-ban/index.html',\n 'https://www.cnn.com/2017/02/05/us/chicago-houston-new-york-swastika-vandalism/index.html',\n 'https://www.cnn.com/2017/02/15/us/marijuana-catapult-trnd/index.html',\n 'https://www.cnn.com/2017/02/19/us/us-carrier-south-china-sea/index.html',\n 'https://www.cnn.com/2017/02/20/us/us-refugees-canada/index.html',\n 'https://www.cnn.com/2017/02/23/us/public-schools-immigration-crackdown/index.html',\n 'https://www.cnn.com/2017/02/27/us/jcc-bomb-threats/index.html',\n 'https://www.cnn.com/2017/03/04/us/h1b-visa-premium-processing-suspended/index.html',\n 'https://www.cnn.com/2017/03/23/us/us-visa-fast-facts/index.html',\n 'https://www.cnn.com/2017/04/04/us/eminent-domain-us-mexico-border-loop-family/index.html',\n 'https://www.cnn.com/2017/04/07/us/us-syrians-react/index.html',\n 'https://www.cnn.com/2017/04/20/us/arkansas-execution-ledell-lee/index.html',\n 'https://www.cnn.com/2017/04/25/us/convicted-terrorist-deported-in-citizenship-case/index.html',\n 'https://www.cnn.com/2017/05/01/us/iyw-how-to-help-us-storm-victims/index.html',\n 'https://www.cnn.com/2017/05/03/us/moment-of-explosion-trnd/index.html',\n 'https://www.cnn.com/2017/05/04/us/hilda-clayton-profile/index.html',\n 'https://www.cnn.com/2017/05/23/us/us-arena-security/index.html',\n 'https://www.cnn.com/2017/05/26/us/ice-air-deportation-flights-explainer/index.html',\n 'https://www.cnn.com/2017/06/16/us/weather-dangerous-heat-wave/index.html',\n 'https://www.cnn.com/2017/07/11/us/oklahoma-air-force-recruiting-office-explosion/index.html',\n 'https://www.cnn.com/2017/07/27/us/mexico-state-department-alcohol-warning/index.html',\n 'https://www.cnn.com/2017/08/03/us/nasa-message-to-voyager-trnd/index.html',\n 'https://www.cnn.com/2017/08/13/us/us-military-deaths-iraq/index.html',\n 'https://www.cnn.com/2017/08/23/us/spyhunter-russia-bug-us-state-department-declassified/index.html',\n 'https://www.cnn.com/2017/08/25/us/tiger-cub-smuggle-attempt/index.html',\n 'https://www.cnn.com/2017/09/01/us/august-charlottesville-eclipse-harvey/index.html',\n 'https://www.cnn.com/2017/09/12/us/alleged-al-qaeda-member-trial/index.html',\n 'https://www.cnn.com/2017/10/07/us/hurricane-nate-forecast/index.html',\n 'https://www.cnn.com/2017/10/31/us/us-puerto-rico-response-criticism/index.html',\n 'https://www.cnn.com/2017/11/13/us/puerto-rico-general-leaves/index.html',\n 'https://www.cnn.com/2018/01/04/us/us-coast-guard-missing-plane/index.html',\n 'https://www.cnn.com/2018/01/08/us/2017-costliest-disasters/index.html',\n 'https://www.cnn.com/2018/01/08/us/applenews-winter-storm-ice/index.html',\n 'https://www.cnn.com/2018/01/18/us/un-security-council-russia-united-states-spar/index.html',\n 'https://www.cnn.com/2018/02/07/us/michigan-gymnastics-coach-investigated/index.html',\n 'https://www.cnn.com/2018/02/09/middleeast/syria-us-forces-intl/index.html',\n 'https://www.cnn.com/2018/02/28/us/us-olympic-committee-ceo-resigns/index.html',\n 'https://www.cnn.com/2018/03/02/us/aly-raisman-files-lawsuit-against-usoc-usa-gymnastics/index.html',\n 'https://www.cnn.com/2018/04/10/us/roy-moore-countersuit-leigh-corfman/index.html',\n 'https://www.cnn.com/2018/05/23/us/border-zone-immigration-checks/index.html',\n 'https://www.cnn.com/2018/05/24/us/cnnheroes-stan-hays-operation-bbq-relief-update/index.html',\n 'https://www.cnn.com/2018/06/03/us/immigration-landscape-may/index.html',\n 'https://www.cnn.com/2018/06/18/us/un-immigration-unconscionable/index.html',\n 'https://www.cnn.com/2018/06/24/us/us-long-history-of-separating-families-trnd/index.html',\n 'https://www.cnn.com/2018/10/18/us/catholic-church-us-investigation/index.html',\n 'https://www.cnn.com/2018/10/28/us/pittsburgh-synagogue-shooting-vigil/index.html',\n 'https://www.cnn.com/2018/11/03/us/immigrants-crime-numbers/index.html',\n 'https://www.cnn.com/2018/11/26/us/san-ysidro-port-of-entry-migrant-arrests/index.html',\n 'https://www.cnn.com/2018/12/12/us/earthquake-decatur-tennessee/index.html',\n 'https://www.cnn.com/2019/01/02/us/russia-detains-us-citizen-paul-whelan/index.html',\n 'https://www.cnn.com/2019/04/25/us/convicted-terrorist-us-citizen-invs/index.html',\n 'https://www.cnn.com/2019/04/26/us/convicted-terrorist-turned-us-citizen-sentenced-invs/index.html',\n 'https://www.cnn.com/2019/05/16/us/guatemala-toddler-death-us-custody/index.html',\n 'https://www.cnn.com/2019/05/22/us/arizona-border-patrol-agent-sexual-assault/index.html',\n 'https://www.cnn.com/2019/05/23/us/deadliest-tornadoes-trnd/index.html',\n 'https://www.cnn.com/2019/05/26/us/severe-weather-toll-outlook-wxc/index.html',\n 'https://www.cnn.com/2019/08/06/us/hiroshima-anniversary-explainer-trnd/index.html',\n 'https://www.cnn.com/2019/08/19/us/mass-shootings-fast-facts/index.html',\n 'https://www.cnn.com/2019/08/25/us/iran-sanctions-us-citizen/index.html',\n 'https://www.cnn.com/2019/08/27/us/us-open-day-2-coco-gauff-spt-intl/index.html',\n 'https://www.cnn.com/2019/10/04/us/deported-veteran-miguel-perez-citizenship/index.html',\n 'https://www.cnn.com/2019/11/03/us/daylight-saving-time-history-trnd/index.html',\n 'https://www.cnn.com/2020/01/29/us/dead-satellites-collide-us-scn-trnd/index.html',\n 'https://www.cnn.com/2020/02/01/us/coronavirus-us-massachusetts/index.html',\n 'https://www.cnn.com/2020/03/04/us/coronavirus-town-hall-questions/index.html',\n 'https://www.cnn.com/2020/03/11/us/coronavirus-testing-stories-invs/index.html',\n 'https://www.cnn.com/2020/05/01/us/uswnt-equal-pay-claims-dismissed/index.html',\n 'https://www.cnn.com/2020/05/17/us/ula-atlas-v-rocket-launch-trnd/index.html',\n 'https://www.cnn.com/2020/05/27/us/us-coronavirus-toll-in-numbers-trnd/index.html',\n 'https://www.cnn.com/2020/06/08/us/us-soccer-repeal-kneeling-ban-spt-trnd/index.html',\n 'https://www.cnn.com/2020/07/04/us/july-4-afghan-translator-american-citizen-cnnheroes-trnd/index.html',\n 'https://www.cnn.com/2020/07/08/us/canada-mexico-border-coronavirus-trnd/index.html',\n 'https://www.cnn.com/2020/08/22/us/kamala-harris-indian-americans/index.html',\n 'https://www.cnn.com/2020/10/17/us/lisa-montgomery-brandon-bernard-executions-trnd/index.html',\n 'https://www.cnn.com/2020/11/01/us/daylight-saving-time-how-it-started-trnd/index.html',\n 'https://www.cnn.com/2020/11/01/us/virginia-missing-children-recovered-trnd/index.html',\n 'https://www.cnn.com/2020/11/29/us/tristan-thompson-us-citizen-trnd/index.html',\n 'https://www.cnn.com/2021/01/07/us/trump-supporters-capitol-riot/index.html',\n 'https://www.cnn.com/2021/01/16/us/us-bound-migrants-guatemala-honduras/index.html',\n 'https://www.cnn.com/2021/03/11/us/bedbugs-navy-submarine-trnd/index.html',\n 'https://www.cnn.com/2021/04/09/us/iyw-us-mexico-border-resources/index.html',\n 'https://www.cnn.com/2021/05/01/us/yangtze-sturgeon-fish-endangered-species-trnd/index.html',\n 'https://www.cnn.com/2021/07/06/us/mass-shootings-fast-facts/index.html',\n 'https://www.cnn.com/2022/01/05/us/oldest-american-wwii-veteran-dies-trnd/index.html',\n 'https://www.cnn.com/2022/01/20/us/criminal-justice-chris-joyner-race-deconstructed-newsletter/index.html',\n 'https://www.cnn.com/2022/02/19/us/robot-dogs-us-mexico-border-patrol-cec/index.html',\n 'https://www.cnn.com/2022/03/15/us/daylight-saving-time-history-trnd/index.html',\n 'https://www.cnn.com/2022/06/02/us/gun-ownership-numbers-us-cec/index.html',\n 'https://www.cnn.com/2022/06/06/us/wilma-mankiller-us-quarter-cherokee-chief-cec/index.html',\n 'https://www.cnn.com/2022/07/12/us/ada-limon-poet-laureate-cec/index.html',\n 'https://www.cnn.com/2022/07/30/us/map-where-are-shark-attacks-us/index.html',\n 'https://www.cnn.com/2022/08/18/us/afghan-evacuees-one-year-later/index.html',\n 'https://www.cnn.com/2022/09/17/us/usps-manhattan-first-latina-postmaster-reaj/index.html',\n 'https://www.cnn.com/2022/10/16/us/climate-change-arctic-us-putin-china-climate/index.html',\n 'https://www.cnn.com/2023/01/24/us/mass-shootings-fast-facts/index.html',\n 'https://www.cnn.com/cnn10/live-news/us-coronavirus-update-04-21-20/index.html',\n 'https://www.cnn.com/us/live-news/9-11-attacks-20th-anniversary/index.html',\n 'https://www.cnn.com/us/live-news/black-lives-matter-protests-george-floyd-06-09-2020/index.html',\n 'https://www.cnn.com/us/live-news/coronavirus-pandemic-07-28-21/index.html',\n 'https://www.cnn.com/us/live-news/coronavirus-pandemic-07-29-21/index.html',\n 'https://www.cnn.com/us/live-news/coronavirus-pandemic-07-30-21/index.html',\n 'https://www.cnn.com/us/live-news/coronavirus-pandemic-vaccine-updates-07-16-21/index.html',\n 'https://www.cnn.com/us/live-news/coronavirus-pandemic-vaccine-updates-08-02-21/index.html',\n 'https://www.cnn.com/us/live-news/coronavirus-pandemic-vaccine-updates-08-03-21/index.html',\n 'https://www.cnn.com/us/live-news/coronavirus-pandemic-vaccine-updates-08-04-21/index.html',\n 'https://www.cnn.com/us/live-news/coronavirus-pandemic-vaccine-updates-08-05-21/index.html',\n 'https://www.cnn.com/us/live-news/coronavirus-pandemic-vaccine-updates-08-23-21/index.html',\n 'https://www.cnn.com/us/live-news/coronavirus-pandemic-vaccine-updates-09-08-21/index.html',\n 'https://www.cnn.com/us/live-news/coronavirus-pandemic-vaccine-updates-10-20-21/index.html',\n 'https://www.cnn.com/us/live-news/coronavirus-pandemic-vaccine-updates-10-21-21/index.html',\n 'https://www.cnn.com/us/live-news/coronavirus-pandemic-vaccine-updates-10-22-21/index.html',\n 'https://www.cnn.com/us/live-news/dayton-el-paso-shootings-trump-visit/index.html',\n 'https://www.cnn.com/us/live-news/george-floyd-protests-06-05-20/index.html',\n 'https://www.cnn.com/us/live-news/george-floyd-protests-06-06-20/index.html',\n 'https://www.cnn.com/us/live-news/heat-wave-july-2019/index.html',\n 'https://www.cnn.com/us/live-news/hurricane-dorian-us-florida/index.html',\n 'https://www.cnn.com/us/live-news/hurricane-laura-updates/index.html',\n 'https://www.cnn.com/us/live-news/hurricane-sally-updates-09-15-2020/index.html',\n 'https://www.cnn.com/us/live-news/immigration-us-mexico-border-june-2019/index.html',\n 'https://www.cnn.com/us/live-news/mormon-attack-us-mexico-border/index.html',\n 'https://www.cnn.com/us/live-news/national-school-walkout/index.html',\n 'https://www.cnn.com/us/live-news/nuclear-fusion-reaction-us-announcement-12-13-22/index.html',\n 'https://www.cnn.com/us/live-news/serena-williams-us-open-08-31-22/index.html',\n 'https://www.cnn.com/us/live-news/serena-williams-us-open-us-open-09-02-22/index.html',\n 'https://www.cnn.com/us/live-news/us-coronavirus-update-04-20-20/index.html',\n 'https://www.cnn.com/us/live-news/us-coronavirus-update-04-21-20/index.html',\n 'https://www.cnn.com/us/live-news/us-coronavirus-update-04-22-20/index.html',\n 'https://www.cnn.com/us/live-news/us-coronavirus-update-04-23-20/index.html',\n 'https://www.cnn.com/us/live-news/us-coronavirus-update-04-24-20/index.html',\n 'https://www.cnn.com/us/live-news/us-coronavirus-update-04-27-20/index.html',\n 'https://www.cnn.com/us/live-news/us-coronavirus-update-04-28-20/index.html',\n 'https://www.cnn.com/us/live-news/us-coronavirus-update-04-29-20/index.html',\n 'https://www.cnn.com/us/live-news/us-coronavirus-update-04-30-20/index.html',\n 'https://www.cnn.com/us/live-news/us-coronavirus-update-05-01-20/index.html',\n 'https://www.cnn.com/us/live-news/us-coronavirus-update-05-04-20/index.html',\n 'https://www.cnn.com/us/live-news/us-coronavirus-update-05-05-20/index.html',\n 'https://www.cnn.com/us/live-news/us-coronavirus-update-05-06-20/index.html',\n 'https://www.cnn.com/us/live-news/us-coronavirus-update-05-07-20/index.html',\n 'https://www.cnn.com/us/live-news/us-coronavirus-update-05-08-20/index.html',\n 'https://www.cnn.com/us/live-news/us-coronavirus-update-05-11-20/index.html',\n 'https://www.cnn.com/us/live-news/us-coronavirus-update-05-12-20/index.html',\n 'https://www.cnn.com/us/live-news/us-coronavirus-update-05-13-20/index.html',\n 'https://www.cnn.com/us/live-news/us-coronavirus-update-05-14-20/index.html',\n 'https://www.cnn.com/us/live-news/us-coronavirus-update-05-15-20/index.html',\n 'https://www.cnn.com/us/live-news/us-coronavirus-update-05-18-20/index.html',\n 'https://www.cnn.com/us/live-news/us-coronavirus-update-05-19-20/index.html',\n 'https://www.cnn.com/us/live-news/us-coronavirus-update-05-20-20/index.html',\n 'https://www.cnn.com/us/live-news/us-coronavirus-update-05-21-20/index.html',\n 'https://www.cnn.com/us/live-news/us-coronavirus-update-05-22-20/index.html',\n 'https://www.cnn.com/us/live-news/us-coronavirus-update-05-26-20/index.html',\n 'https://www.cnn.com/us/live-news/us-coronavirus-update-05-27-20/index.html',\n 'https://www.cnn.com/us/live-news/us-coronavirus-update-05-28-20/index.html',\n 'https://www.cnn.com/us/live-news/us-coronavirus-update-05-29-20/index.html',\n 'https://www.cnn.com/us/live-news/us-weather-yellowstone-flooding-heat-warnings/index.html',\n 'https://www.cnn.com/us/live-news/weather-forecast-storms-us/index.html',\n 'https://www.cnn.com/us/live-news/west-coast-wildfires-09-14-2020/index.html',\n 'https://www.cnn.com/us/live-news/winter-storm-12-02-2019/index.html',\n 'https://www.cnn.com/us/live-news/winter-storm-christmas-weather-forecast-12-24-2022/index.html',\n 'https://www.cnn.com/us/live-news/winter-storm-weather-live-01-17-21/index.html',\n 'https://www.cnn.com/us/live-news/winter-weather-11-12-2019/index.html',\n 'https://www.cnn.com/us/live-news/winter-weather-february-2019/index.html']"
     },
     "execution_count": 8,
     "metadata": {},
     "output_type": "execute_result"
    }
   ],
   "source": [
    "search.urls"
   ],
   "metadata": {
    "collapsed": false
   }
  },
  {
   "cell_type": "code",
   "execution_count": 9,
   "outputs": [
    {
     "name": "stdout",
     "output_type": "stream",
     "text": [
      "Parsing 0 urls from CNN...\n"
     ]
    },
    {
     "name": "stderr",
     "output_type": "stream",
     "text": [
      " 50%|\u001B[32m████▉     \u001B[0m| 99/199 [00:23<00:25,  3.86it/s]"
     ]
    },
    {
     "name": "stdout",
     "output_type": "stream",
     "text": [
      "Saved to ../data/test/CNN/CNN_US.csv\n",
      "Total memory: 16.00GB, Used memory: 1.50GB, Available memory: 0.97GB\n",
      "------------------------------\n"
     ]
    },
    {
     "name": "stderr",
     "output_type": "stream",
     "text": [
      " 88%|\u001B[32m████████▊ \u001B[0m| 176/199 [00:49<00:12,  1.84it/s]"
     ]
    },
    {
     "name": "stdout",
     "output_type": "stream",
     "text": [
      "Failed to parse No. 176 of 99 urls from CNN, total failed 1 times.\n"
     ]
    },
    {
     "name": "stderr",
     "output_type": "stream",
     "text": [
      " 89%|\u001B[32m████████▉ \u001B[0m| 177/199 [00:52<00:30,  1.37s/it]"
     ]
    },
    {
     "name": "stdout",
     "output_type": "stream",
     "text": [
      "Failed to parse No. 176 of 99 urls from CNN, total failed 2 times.\n"
     ]
    },
    {
     "name": "stderr",
     "output_type": "stream",
     "text": [
      " 89%|\u001B[32m████████▉ \u001B[0m| 178/199 [00:55<00:40,  1.94s/it]"
     ]
    },
    {
     "name": "stdout",
     "output_type": "stream",
     "text": [
      "Failed to parse No. 176 of 99 urls from CNN, total failed 3 times.\n",
      "Parsing US failed too many times!\n",
      "US saved 176 results\n"
     ]
    },
    {
     "name": "stderr",
     "output_type": "stream",
     "text": [
      " 89%|\u001B[32m████████▉ \u001B[0m| 178/199 [00:58<00:06,  3.04it/s]\n"
     ]
    }
   ],
   "source": [
    "search.parse()"
   ],
   "metadata": {
    "collapsed": false
   }
  },
  {
   "cell_type": "code",
   "execution_count": null,
   "outputs": [],
   "source": [
    "search.save()"
   ],
   "metadata": {
    "collapsed": false
   }
  },
  {
   "cell_type": "code",
   "execution_count": 10,
   "outputs": [
    {
     "name": "stdout",
     "output_type": "stream",
     "text": [
      "Reminder: you can only stop this process by restarting the kernel, or double click the stop button in some cases\n",
      "------------------------------\n",
      "Keywords: ['US', 'China']\n",
      "Current keyword: US\n",
      "Parsing 199 urls from CNN...NN...\n"
     ]
    },
    {
     "name": "stderr",
     "output_type": "stream",
     "text": [
      " 21%|\u001B[32m██        \u001B[0m| 41/199 [00:09<00:33,  4.73it/s]"
     ]
    },
    {
     "name": "stdout",
     "output_type": "stream",
     "text": [
      "Failed to parse No. 41 of 199 urls from CNN, total failed 1 times.\n"
     ]
    },
    {
     "name": "stderr",
     "output_type": "stream",
     "text": [
      " 25%|\u001B[32m██▍       \u001B[0m| 49/199 [00:12<00:37,  3.95it/s]"
     ]
    },
    {
     "name": "stdout",
     "output_type": "stream",
     "text": [
      "Failed to parse No. 48 of 199 urls from CNN, total failed 2 times.\n"
     ]
    },
    {
     "name": "stderr",
     "output_type": "stream",
     "text": [
      " 28%|\u001B[32m██▊       \u001B[0m| 56/199 [00:15<00:35,  4.04it/s]"
     ]
    },
    {
     "name": "stdout",
     "output_type": "stream",
     "text": [
      "Failed to parse No. 54 of 199 urls from CNN, total failed 3 times.\n",
      "Parsing US failed too many times!\n",
      "US saved 54 results\n"
     ]
    },
    {
     "name": "stderr",
     "output_type": "stream",
     "text": [
      " 28%|\u001B[32m██▊       \u001B[0m| 56/199 [00:16<00:40,  3.49it/s]"
     ]
    },
    {
     "name": "stdout",
     "output_type": "stream",
     "text": [
      "Saved to ../data/test/CNN/CNN_US.csv\n",
      "Removed duplicate and na rows from ../data/test/CNN/CNN_US.csv\n",
      "US done\n",
      "\n",
      "\n",
      "------------------------------\n",
      "Keywords: ['US', 'China']\n",
      "Current keyword: China\n",
      "Getting page 2 of 20 from CNN...\r"
     ]
    },
    {
     "name": "stderr",
     "output_type": "stream",
     "text": [
      "\n"
     ]
    },
    {
     "name": "stdout",
     "output_type": "stream",
     "text": [
      "Parsing 199 urls from CNN...NN...\n"
     ]
    },
    {
     "name": "stderr",
     "output_type": "stream",
     "text": [
      " 50%|\u001B[32m████▉     \u001B[0m| 99/199 [00:23<00:21,  4.71it/s]"
     ]
    },
    {
     "name": "stdout",
     "output_type": "stream",
     "text": [
      "Saved to ../data/test/CNN/CNN_China.csv\n",
      "Total memory: 16.00GB, Used memory: 1.49GB, Available memory: 0.95GB\n",
      "------------------------------\n"
     ]
    },
    {
     "name": "stderr",
     "output_type": "stream",
     "text": [
      "100%|\u001B[32m██████████\u001B[0m| 199/199 [01:06<00:00,  2.98it/s]"
     ]
    },
    {
     "name": "stdout",
     "output_type": "stream",
     "text": [
      "Saved to ../data/test/CNN/CNN_China.csv\n",
      "Removed duplicate and na rows from ../data/test/CNN/CNN_China.csv\n",
      "China done\n",
      "\n",
      "\n",
      "------------------------------\n",
      "Keywords: ['US', 'China']\n",
      "Current keyword: US\n",
      "Getting page 1 of 20 from nypost...\r"
     ]
    },
    {
     "name": "stderr",
     "output_type": "stream",
     "text": [
      "\n"
     ]
    },
    {
     "name": "stdout",
     "output_type": "stream",
     "text": [
      "Parsing 400 urls from nypost...st...\n"
     ]
    },
    {
     "name": "stderr",
     "output_type": "stream",
     "text": [
      " 25%|\u001B[32m██▍       \u001B[0m| 99/400 [01:24<03:37,  1.38it/s]"
     ]
    },
    {
     "name": "stdout",
     "output_type": "stream",
     "text": [
      "Saved to ../data/test/nypost/nypost_US.csv\n",
      "Total memory: 16.00GB, Used memory: 1.48GB, Available memory: 0.97GB\n",
      "------------------------------\n"
     ]
    },
    {
     "name": "stderr",
     "output_type": "stream",
     "text": [
      " 50%|\u001B[32m████▉     \u001B[0m| 199/400 [02:38<01:16,  2.62it/s]"
     ]
    },
    {
     "name": "stdout",
     "output_type": "stream",
     "text": [
      "Saved to ../data/test/nypost/nypost_US.csv\n",
      "Total memory: 16.00GB, Used memory: 1.50GB, Available memory: 0.97GB\n",
      "------------------------------\n"
     ]
    },
    {
     "name": "stderr",
     "output_type": "stream",
     "text": [
      " 75%|\u001B[32m███████▍  \u001B[0m| 299/400 [03:33<00:58,  1.72it/s]"
     ]
    },
    {
     "name": "stdout",
     "output_type": "stream",
     "text": [
      "Saved to ../data/test/nypost/nypost_US.csv\n",
      "Total memory: 16.00GB, Used memory: 1.45GB, Available memory: 1.11GB\n",
      "------------------------------\n"
     ]
    },
    {
     "name": "stderr",
     "output_type": "stream",
     "text": [
      " 86%|\u001B[32m████████▋ \u001B[0m| 346/400 [04:02<00:37,  1.44it/s]"
     ]
    },
    {
     "name": "stdout",
     "output_type": "stream",
     "text": [
      "Failed to parse No. 346 of 100 urls from nypost, total failed 1 times.\n"
     ]
    },
    {
     "name": "stderr",
     "output_type": "stream",
     "text": [
      "100%|\u001B[32m██████████\u001B[0m| 400/400 [04:40<00:00,  1.43it/s]"
     ]
    },
    {
     "name": "stdout",
     "output_type": "stream",
     "text": [
      "Saved to ../data/test/nypost/nypost_US.csv\n",
      "Removed duplicate and na rows from ../data/test/nypost/nypost_US.csv\n",
      "US done\n",
      "\n",
      "\n",
      "------------------------------\n",
      "Keywords: ['US', 'China']\n",
      "Current keyword: China\n",
      "Getting page 1 of 20 from nypost...\r"
     ]
    },
    {
     "name": "stderr",
     "output_type": "stream",
     "text": [
      "\n"
     ]
    },
    {
     "name": "stdout",
     "output_type": "stream",
     "text": [
      "Parsing 400 urls from nypost...st...\n"
     ]
    },
    {
     "name": "stderr",
     "output_type": "stream",
     "text": [
      " 25%|\u001B[32m██▍       \u001B[0m| 99/400 [01:56<07:09,  1.43s/it]"
     ]
    },
    {
     "name": "stdout",
     "output_type": "stream",
     "text": [
      "Saved to ../data/test/nypost/nypost_China.csv\n",
      "Total memory: 16.00GB, Used memory: 1.59GB, Available memory: 1.06GB\n",
      "------------------------------\n"
     ]
    },
    {
     "name": "stderr",
     "output_type": "stream",
     "text": [
      " 50%|\u001B[32m████▉     \u001B[0m| 199/400 [03:48<04:05,  1.22s/it]"
     ]
    },
    {
     "name": "stdout",
     "output_type": "stream",
     "text": [
      "Saved to ../data/test/nypost/nypost_China.csv\n",
      "Total memory: 16.00GB, Used memory: 1.59GB, Available memory: 1.07GB\n",
      "------------------------------\n"
     ]
    },
    {
     "name": "stderr",
     "output_type": "stream",
     "text": [
      " 75%|\u001B[32m███████▍  \u001B[0m| 299/400 [05:37<01:40,  1.01it/s]"
     ]
    },
    {
     "name": "stdout",
     "output_type": "stream",
     "text": [
      "Saved to ../data/test/nypost/nypost_China.csv\n",
      "Total memory: 16.00GB, Used memory: 1.61GB, Available memory: 1.06GB\n",
      "------------------------------\n"
     ]
    },
    {
     "name": "stderr",
     "output_type": "stream",
     "text": [
      "100%|\u001B[32m█████████▉\u001B[0m| 399/400 [06:52<00:01,  1.17s/it]"
     ]
    },
    {
     "name": "stdout",
     "output_type": "stream",
     "text": [
      "Saved to ../data/test/nypost/nypost_China.csv\n",
      "Total memory: 16.00GB, Used memory: 1.61GB, Available memory: 1.07GB\n",
      "------------------------------\n"
     ]
    },
    {
     "name": "stderr",
     "output_type": "stream",
     "text": [
      "100%|\u001B[32m██████████\u001B[0m| 400/400 [06:53<00:00,  1.03s/it]"
     ]
    },
    {
     "name": "stdout",
     "output_type": "stream",
     "text": [
      "Saved to ../data/test/nypost/nypost_China.csv\n",
      "Removed duplicate and na rows from ../data/test/nypost/nypost_China.csv\n",
      "China done\n",
      "\n",
      "\n"
     ]
    },
    {
     "name": "stderr",
     "output_type": "stream",
     "text": [
      "\n"
     ]
    }
   ],
   "source": [
    "search.auto(['CNN', 'nypost'] , keywords[:2])"
   ],
   "metadata": {
    "collapsed": false
   }
  },
  {
   "cell_type": "markdown",
   "source": [
    "# Word Cloud"
   ],
   "metadata": {
    "collapsed": false
   }
  },
  {
   "cell_type": "code",
   "execution_count": null,
   "outputs": [],
   "source": [
    "kargs2 = {'medias': ['CNN', 'nypost'],                  # medias to include\n",
    "          'keywords': keywords,                         # keywords to include\n",
    "          'root': '../data',                               # root directory to load the news\n",
    "          'limit': 1000,                                # number of news to load\n",
    "          'custom_stopwords':open('custom_stopwords.txt', 'r').read().split('\\n'),}  # add custom stopwords\n",
    "kargs2['custom_stopwords']"
   ],
   "metadata": {
    "collapsed": false
   }
  },
  {
   "cell_type": "code",
   "execution_count": null,
   "outputs": [],
   "source": [
    "wc = Word_Cloud(**kargs2)"
   ],
   "metadata": {
    "collapsed": false
   }
  },
  {
   "cell_type": "code",
   "execution_count": null,
   "outputs": [],
   "source": [
    "wc.show()"
   ],
   "metadata": {
    "collapsed": false
   }
  },
  {
   "cell_type": "code",
   "execution_count": null,
   "outputs": [],
   "source": [],
   "metadata": {
    "collapsed": false
   }
  }
 ],
 "metadata": {
  "kernelspec": {
   "display_name": "Python 3",
   "language": "python",
   "name": "python3"
  },
  "language_info": {
   "codemirror_mode": {
    "name": "ipython",
    "version": 2
   },
   "file_extension": ".py",
   "mimetype": "text/x-python",
   "name": "python",
   "nbconvert_exporter": "python",
   "pygments_lexer": "ipython2",
   "version": "2.7.6"
  }
 },
 "nbformat": 4,
 "nbformat_minor": 0
}
