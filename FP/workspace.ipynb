{
 "cells": [
  {
   "cell_type": "code",
   "execution_count": 3,
   "metadata": {
    "collapsed": true
   },
   "outputs": [],
   "source": [
    "import pandas as pd\n",
    "from utils import *\n",
    "# autoreload\n",
    "%load_ext autoreload\n",
    "%autoreload 2"
   ]
  },
  {
   "cell_type": "markdown",
   "source": [
    "# Search Engine"
   ],
   "metadata": {
    "collapsed": false
   }
  },
  {
   "cell_type": "code",
   "execution_count": 6,
   "outputs": [
    {
     "name": "stdout",
     "output_type": "stream",
     "text": [
      "['US', 'China', 'UK', 'Russia', 'Trump', 'Biden', 'republic', 'democratic', 'gun', 'black', 'police', 'LGBT', 'fair', 'protest', 'war', 'invasion', 'refused', 'crime', 'violence', 'attack', 'terror', 'immigration', 'ukraine', 'conflict']\n"
     ]
    }
   ],
   "source": [
    "kargs1 = {'name': 'CNN',                  # name of the news website\n",
    "          'keyword': 'US',                    # keyword to search\n",
    "          'startpage': 1,\n",
    "          'endpage': 200,\n",
    "          'sleep1': 1,                        # time interval to revisit the page if failed\n",
    "          'sleep2': 1,                        # time interval to visit the next page if current page is empty\n",
    "          'sleep3': 1,                        # time interval to reparse the page if failed\n",
    "          'limit1': 10,                       # number of times to revisit the page if failed, then skip the page\n",
    "          'limit2': 10,                       # number of times to visit next page if current page is empty, then end the crawler\n",
    "          'limit3': 100,                       # total number of times to reparse the page if failed, then end the crawler\n",
    "          'filter_': None,                    # time filter for the news\n",
    "          'process': False,                   # whether to get the urls in debug\n",
    "          'parse': False,                     # whether to parse the urls in debug\n",
    "          'save': False,                      # whether to save the news in debug\n",
    "          'root': f'test',}                   # root directory to save the news\n",
    "keywords = open('keywords.txt', 'r').read().split('\\n')\n",
    "keywords1 = open('keywords1.txt', 'r').read().split('\\n')\n",
    "print(keywords)"
   ],
   "metadata": {
    "collapsed": false
   }
  },
  {
   "cell_type": "code",
   "execution_count": 7,
   "outputs": [],
   "source": [
    "search = SearchEngine(**kargs1)"
   ],
   "metadata": {
    "collapsed": false
   }
  },
  {
   "cell_type": "code",
   "execution_count": null,
   "outputs": [
    {
     "name": "stdout",
     "output_type": "stream",
     "text": [
      "Reminder: you can only stop this process by restarting the kernel, or double click the stop button in some cases\n",
      "------------------------------\n",
      "Keywords: ['a', 'b']\n",
      "Current keyword: a\n",
      "Getting page 11 of 200 from nypost...\r"
     ]
    }
   ],
   "source": [
    "search.auto(['nypost'] , keywords[:4])"
   ],
   "metadata": {
    "collapsed": false
   }
  },
  {
   "cell_type": "markdown",
   "source": [
    "# Word Cloud"
   ],
   "metadata": {
    "collapsed": false
   }
  },
  {
   "cell_type": "code",
   "execution_count": null,
   "outputs": [],
   "source": [
    "kargs2 = {'medias': ['CNN', 'nypost'],                  # medias to include\n",
    "          'keywords': keywords,                         # keywords to include\n",
    "          'root': 'data',                               # root directory to load the news\n",
    "          'limit': 1000,                                # number of news to load\n",
    "          'custom_stopwords':open('custom_stopwords.txt', 'r').read().split('\\n'),}  # add custom stopwords\n",
    "kargs2['custom_stopwords']"
   ],
   "metadata": {
    "collapsed": false
   }
  },
  {
   "cell_type": "code",
   "execution_count": null,
   "outputs": [],
   "source": [
    "wc = Word_Cloud(**kargs2)"
   ],
   "metadata": {
    "collapsed": false
   }
  },
  {
   "cell_type": "code",
   "execution_count": null,
   "outputs": [],
   "source": [
    "wc.show()"
   ],
   "metadata": {
    "collapsed": false
   }
  },
  {
   "cell_type": "code",
   "execution_count": null,
   "outputs": [],
   "source": [],
   "metadata": {
    "collapsed": false
   }
  }
 ],
 "metadata": {
  "kernelspec": {
   "display_name": "Python 3",
   "language": "python",
   "name": "python3"
  },
  "language_info": {
   "codemirror_mode": {
    "name": "ipython",
    "version": 2
   },
   "file_extension": ".py",
   "mimetype": "text/x-python",
   "name": "python",
   "nbconvert_exporter": "python",
   "pygments_lexer": "ipython2",
   "version": "2.7.6"
  }
 },
 "nbformat": 4,
 "nbformat_minor": 0
}
